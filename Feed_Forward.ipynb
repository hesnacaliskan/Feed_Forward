{
  "cells": [
    {
      "cell_type": "markdown",
      "metadata": {
        "id": "view-in-github",
        "colab_type": "text"
      },
      "source": [
        "<a href=\"https://colab.research.google.com/github/hesnacaliskan/Feed_Forward/blob/main/Feed_Forward.ipynb\" target=\"_parent\"><img src=\"https://colab.research.google.com/assets/colab-badge.svg\" alt=\"Open In Colab\"/></a>"
      ]
    },
    {
      "cell_type": "code",
      "execution_count": null,
      "metadata": {
        "id": "SXDQ7lhojvGM"
      },
      "outputs": [],
      "source": [
        "import torch"
      ]
    },
    {
      "cell_type": "code",
      "execution_count": null,
      "metadata": {
        "colab": {
          "base_uri": "https://localhost:8080/"
        },
        "id": "5p2vU85gmyeI",
        "outputId": "1c60e0c1-eaf1-40fe-f3a9-76db28a999f4"
      },
      "outputs": [
        {
          "output_type": "execute_result",
          "data": {
            "text/plain": [
              "tensor([[1., 2., 3.],\n",
              "        [4., 5., 6.]])"
            ]
          },
          "metadata": {},
          "execution_count": 239
        }
      ],
      "source": [
        "# convert input matrix to tensor\n",
        "x = torch.tensor([[1, 2, 3], [4, 5, 6]],dtype=torch.float).reshape(2,3)\n",
        "x"
      ]
    },
    {
      "cell_type": "code",
      "execution_count": null,
      "metadata": {
        "colab": {
          "base_uri": "https://localhost:8080/"
        },
        "id": "ErwzIHTBpkNf",
        "outputId": "39e90d18-0c13-463e-93fe-ff7abfc3eef0"
      },
      "outputs": [
        {
          "output_type": "execute_result",
          "data": {
            "text/plain": [
              "<torch._C.Generator at 0x7f2d80099390>"
            ]
          },
          "metadata": {},
          "execution_count": 225
        }
      ],
      "source": [
        "# set seed for reproducibility\n",
        "torch.manual_seed(1)"
      ]
    },
    {
      "cell_type": "code",
      "execution_count": null,
      "metadata": {
        "colab": {
          "base_uri": "https://localhost:8080/"
        },
        "id": "5EISpkLfpMem",
        "outputId": "c2a0e13e-2522-42fd-caf2-46a925470896"
      },
      "outputs": [
        {
          "output_type": "execute_result",
          "data": {
            "text/plain": [
              "(tensor([[-1.7205, -1.5835,  1.2246, -0.1596, -0.8170, -0.1687, -0.9185, -0.8003,\n",
              "          -0.8991, -0.0879,  1.3134, -0.4186, -0.0860, -0.1424, -1.3107,  0.6717,\n",
              "          -1.9505, -0.1363, -0.3901, -2.1097,  1.2281,  1.2387,  0.6899,  1.9605,\n",
              "          -1.0363, -0.7959, -0.6600, -1.6467,  0.8895, -2.2541,  0.5738, -1.5809,\n",
              "          -0.6021, -1.0709, -0.2293,  0.8809, -0.7319, -0.6784, -1.5085,  0.7940,\n",
              "          -2.2473, -0.9960, -0.1543, -0.0902, -0.8172,  0.3023, -0.6743, -0.5118,\n",
              "          -1.0335, -0.9282],\n",
              "         [-0.8576,  1.1873,  0.8635, -1.0986, -0.2726,  0.5510,  0.8867, -0.7213,\n",
              "          -0.1691, -0.1944, -0.1577, -0.0760, -0.1513,  1.1517,  1.0710, -0.2714,\n",
              "          -1.4376,  0.9728,  0.2998,  1.4520, -0.4635, -0.0817,  0.9699,  0.6033,\n",
              "          -2.1825, -1.2291,  0.1631, -0.5153,  0.3369,  1.1439, -0.1316, -2.3585,\n",
              "          -0.4579, -0.4495,  2.1441,  0.8606, -0.8810,  0.3252,  0.1557,  0.3533,\n",
              "          -0.9943,  1.7019, -0.1366, -0.1180,  0.4348,  0.6072,  0.0753, -1.0400,\n",
              "          -1.5716, -0.9665],\n",
              "         [ 0.6651, -1.8380, -0.3498,  2.3796,  0.8932,  0.4560, -0.5604, -0.8014,\n",
              "           1.2097,  0.5835,  1.0369, -0.6867, -0.2130,  1.8776,  0.0141, -1.1805,\n",
              "          -0.1210,  1.5877, -0.4058, -2.4154,  0.8546, -2.1394,  0.1013,  0.1766,\n",
              "          -0.8983,  0.8585,  0.4457, -0.4716,  1.7027,  0.2532,  0.1038,  0.1172,\n",
              "          -0.4839,  0.7559, -1.1172,  0.8156, -0.1891, -1.3795,  1.0309, -2.3881,\n",
              "          -0.7863,  1.3513,  0.1738, -0.5060, -0.5542, -0.3698, -0.8029,  0.2366,\n",
              "          -0.4738,  0.1987]]),\n",
              " tensor([[ 2.4960],\n",
              "         [ 1.1309],\n",
              "         [-1.4664],\n",
              "         [ 0.2885],\n",
              "         [ 0.9856],\n",
              "         [ 0.6610],\n",
              "         [ 0.4461],\n",
              "         [ 1.4021],\n",
              "         [-0.4516],\n",
              "         [ 0.4008],\n",
              "         [-1.9665],\n",
              "         [-0.9607],\n",
              "         [ 0.3384],\n",
              "         [ 1.1109],\n",
              "         [ 0.0246],\n",
              "         [-1.6518],\n",
              "         [ 0.7164],\n",
              "         [-0.5623],\n",
              "         [-0.9389],\n",
              "         [-0.5514],\n",
              "         [-0.1534],\n",
              "         [ 0.6928],\n",
              "         [-0.3377],\n",
              "         [ 0.3410],\n",
              "         [-0.2273],\n",
              "         [-0.0132],\n",
              "         [ 0.4574],\n",
              "         [-0.2638],\n",
              "         [ 0.3556],\n",
              "         [-0.0798],\n",
              "         [-1.1819],\n",
              "         [-1.0715],\n",
              "         [-0.0398],\n",
              "         [-0.1672],\n",
              "         [-1.1658],\n",
              "         [ 1.1458],\n",
              "         [-1.8348],\n",
              "         [ 0.3647],\n",
              "         [-0.8980],\n",
              "         [-1.2085],\n",
              "         [-1.4795],\n",
              "         [-3.1069],\n",
              "         [-2.6897],\n",
              "         [ 1.8595],\n",
              "         [-2.5019],\n",
              "         [-1.8712],\n",
              "         [ 0.3847],\n",
              "         [ 1.0171],\n",
              "         [ 1.7767],\n",
              "         [ 0.6589]]))"
            ]
          },
          "metadata": {},
          "execution_count": 241
        }
      ],
      "source": [
        "# define weight matrices for hidden and output layers\n",
        "hidden_weights = torch.randn(3,50,dtype=torch.float)\n",
        "output_weights = torch.randn(50,1,dtype=torch.float)\n",
        "\n",
        "hidden_weights, output_weights"
      ]
    },
    {
      "cell_type": "code",
      "execution_count": null,
      "metadata": {
        "colab": {
          "base_uri": "https://localhost:8080/"
        },
        "id": "4-a5ooL1puhy",
        "outputId": "4604a5de-8166-4e18-faf0-44603501b740"
      },
      "outputs": [
        {
          "output_type": "execute_result",
          "data": {
            "text/plain": [
              "(tensor([[ 0.6134, -0.3264,  0.4251,  1.0518,  1.6644,  1.3884,  1.2475,  0.2022,\n",
              "           0.5733, -0.0521,  0.7053,  0.3222,  0.7071,  1.2908,  0.8470,  2.4917,\n",
              "           0.1673,  0.6795, -0.4589, -1.4555, -0.5053,  0.0417, -0.0381,  0.4068,\n",
              "           0.8519, -0.1752,  0.4421,  0.4145, -0.6395,  0.3661,  0.6539, -0.7537,\n",
              "           0.6950, -0.0925,  0.4207,  0.0655, -0.8982,  0.5760, -0.6045,  1.1574,\n",
              "          -1.3785,  1.1119, -0.1948,  0.9820,  0.1731, -0.4572,  0.7908,  0.7415,\n",
              "           1.0753, -0.0854]]),\n",
              " tensor([[-1.1910]]))"
            ]
          },
          "metadata": {},
          "execution_count": 242
        }
      ],
      "source": [
        "# define bias vectors for hidden and output layers\n",
        "hidden_bias = torch.randn(1,50,dtype=torch.float)\n",
        "output_bias = torch.randn(1,1,dtype=torch.float)\n",
        "\n",
        "hidden_bias, output_bias"
      ]
    },
    {
      "cell_type": "code",
      "execution_count": null,
      "metadata": {
        "id": "IlGoc2coqLxG"
      },
      "outputs": [],
      "source": [
        "def tanh(x):\n",
        "    return (torch.exp(x) - torch.exp(-x)) / (torch.exp(x) + torch.exp(-x))"
      ]
    },
    {
      "cell_type": "code",
      "execution_count": null,
      "metadata": {
        "id": "F8WDvlHjqNKF"
      },
      "outputs": [],
      "source": [
        "def sigmoid(x):\n",
        "    return 1 / (1 + torch.exp(-x))"
      ]
    },
    {
      "cell_type": "code",
      "execution_count": null,
      "metadata": {
        "id": "mzJ25n_-qR4i"
      },
      "outputs": [],
      "source": [
        "# forward propagation\n",
        "hidden_layer_output = tanh(torch.matmul(x, hidden_weights) + hidden_bias)\n",
        "output_layer_output = sigmoid(torch.matmul(hidden_layer_output, output_weights) + output_bias)\n"
      ]
    },
    {
      "cell_type": "code",
      "execution_count": null,
      "metadata": {
        "colab": {
          "base_uri": "https://localhost:8080/"
        },
        "id": "jp_MuTho39VB",
        "outputId": "2ad61527-7478-4637-912d-379f2924894d"
      },
      "outputs": [
        {
          "output_type": "execute_result",
          "data": {
            "text/plain": [
              "tensor([[ 1.0000, -0.9999, -0.9715,  0.8398,  1.0000,  0.9976,  0.6553,  0.0966,\n",
              "         -1.0000, -0.9884, -0.9945, -0.9999, -0.9988, -0.9252,  0.9997,  0.8464,\n",
              "         -0.8107, -0.9013, -0.4241, -0.9594,  1.0000,  0.7793, -0.9511,  1.0000,\n",
              "         -1.0000,  0.9043, -0.9847, -0.8364,  0.9900, -1.0000,  0.4649,  0.9986,\n",
              "         -0.8771, -0.9977, -0.9976, -1.0000,  0.9950, -0.8740, -0.0797, -0.1578,\n",
              "         -0.9808, -0.9070, -0.9998,  1.0000,  0.9997, -0.7741,  0.9774,  0.9788,\n",
              "          0.9989, -0.9939],\n",
              "        [ 0.9999, -1.0000, -0.9998,  0.7828,  1.0000,  1.0000, -0.9676, -0.9826,\n",
              "         -1.0000, -1.0000, -0.9999, -1.0000, -1.0000, -0.4520,  1.0000,  0.9659,\n",
              "         -0.9997, -1.0000,  0.9895, -0.9902,  1.0000,  0.8033, -1.0000,  1.0000,\n",
              "         -1.0000,  0.9991, -1.0000, -1.0000,  1.0000, -1.0000, -0.9819,  1.0000,\n",
              "          0.8862, -1.0000, -1.0000, -1.0000,  1.0000, -0.9941,  0.6409, -0.9781,\n",
              "         -1.0000, -0.3354, -1.0000,  1.0000,  1.0000, -0.8837,  1.0000,  0.9788,\n",
              "          1.0000, -1.0000]])"
            ]
          },
          "metadata": {},
          "execution_count": 231
        }
      ],
      "source": [
        "hidden_layer_output"
      ]
    },
    {
      "cell_type": "code",
      "execution_count": null,
      "metadata": {
        "colab": {
          "base_uri": "https://localhost:8080/"
        },
        "id": "BWAD5Syv3aqa",
        "outputId": "7265dd1c-e775-4669-bef9-e47f161005e9"
      },
      "outputs": [
        {
          "output_type": "execute_result",
          "data": {
            "text/plain": [
              "tensor([[ 1.0000, -0.9999, -0.9715,  0.8398,  1.0000,  0.9976,  0.6553,  0.0966,\n",
              "         -1.0000, -0.9884, -0.9945, -0.9999, -0.9988, -0.9252,  0.9997,  0.8464,\n",
              "         -0.8107, -0.9013, -0.4241, -0.9594,  1.0000,  0.7793, -0.9511,  1.0000,\n",
              "         -1.0000,  0.9043, -0.9847, -0.8364,  0.9900, -1.0000,  0.4649,  0.9986,\n",
              "         -0.8771, -0.9977, -0.9976, -1.0000,  0.9950, -0.8740, -0.0797, -0.1578,\n",
              "         -0.9808, -0.9070, -0.9998,  1.0000,  0.9997, -0.7741,  0.9774,  0.9788,\n",
              "          0.9989, -0.9939],\n",
              "        [ 0.9999, -1.0000, -0.9998,  0.7828,  1.0000,  1.0000, -0.9676, -0.9826,\n",
              "         -1.0000, -1.0000, -0.9999, -1.0000, -1.0000, -0.4520,  1.0000,  0.9659,\n",
              "         -0.9997, -1.0000,  0.9895, -0.9902,  1.0000,  0.8033, -1.0000,  1.0000,\n",
              "         -1.0000,  0.9991, -1.0000, -1.0000,  1.0000, -1.0000, -0.9819,  1.0000,\n",
              "          0.8862, -1.0000, -1.0000, -1.0000,  1.0000, -0.9941,  0.6409, -0.9781,\n",
              "         -1.0000, -0.3354, -1.0000,  1.0000,  1.0000, -0.8837,  1.0000,  0.9788,\n",
              "          1.0000, -1.0000]])"
            ]
          },
          "metadata": {},
          "execution_count": 232
        }
      ],
      "source": [
        "torch.tanh(torch.matmul(x, hidden_weights) + hidden_bias)"
      ]
    },
    {
      "cell_type": "code",
      "execution_count": null,
      "metadata": {
        "colab": {
          "base_uri": "https://localhost:8080/"
        },
        "id": "IFEB7YAUrxiX",
        "outputId": "eba989bb-f786-453c-f755-abd10c199a46"
      },
      "outputs": [
        {
          "output_type": "execute_result",
          "data": {
            "text/plain": [
              "tensor([[0.9998],\n",
              "        [0.9984]])"
            ]
          },
          "metadata": {},
          "execution_count": 233
        }
      ],
      "source": [
        "output_layer_output"
      ]
    },
    {
      "cell_type": "code",
      "execution_count": null,
      "metadata": {
        "colab": {
          "base_uri": "https://localhost:8080/"
        },
        "id": "FEEqzgORs3P0",
        "outputId": "c84bf46f-ace5-4aa4-d3e9-3c3e650404b3"
      },
      "outputs": [
        {
          "output_type": "execute_result",
          "data": {
            "text/plain": [
              "tensor([[0.9998],\n",
              "        [0.9984]])"
            ]
          },
          "metadata": {},
          "execution_count": 235
        }
      ],
      "source": [
        "torch.sigmoid(torch.matmul(hidden_layer_output, output_weights) + output_bias)\n"
      ]
    },
    {
      "cell_type": "code",
      "source": [
        "torch.manual_seed(190401007)"
      ],
      "metadata": {
        "colab": {
          "base_uri": "https://localhost:8080/"
        },
        "id": "WnaqHnpHK_ai",
        "outputId": "510baddc-bafd-4ac3-c088-3e3b5c8c73be"
      },
      "execution_count": null,
      "outputs": [
        {
          "output_type": "execute_result",
          "data": {
            "text/plain": [
              "<torch._C.Generator at 0x7f2d80099390>"
            ]
          },
          "metadata": {},
          "execution_count": 240
        }
      ]
    },
    {
      "cell_type": "code",
      "source": [
        "hidden_weights = torch.randn(3, 50, dtype=torch.float)\n",
        "output_weights = torch.randn(50, 1, dtype=torch.float)\n",
        "\n",
        "hidden_bias = torch.randn(1,50, dtype=torch.float)\n",
        "output_bias = torch.randn(1,1, dtype=torch.float)\n",
        "\n",
        "\n",
        "def tanh(x):\n",
        "    return (torch.exp(x) - torch.exp(-x)) / (torch.exp(x) + torch.exp(-x))\n",
        "\n",
        "def sigmoid(x):\n",
        "    return 1 / (1 + torch.exp(-x))\n",
        "\n",
        "\n",
        "hidden_layer_output = tanh(torch.matmul(x, hidden_weights) + hidden_bias)\n",
        "output_layer_output = sigmoid(torch.matmul(hidden_layer_output, output_weights) + output_bias)\n",
        "\n",
        "print(output_layer_output)\n"
      ],
      "metadata": {
        "colab": {
          "base_uri": "https://localhost:8080/"
        },
        "id": "rlI_QIquLIJ8",
        "outputId": "980e8a60-71df-4a99-e999-7c369246e925"
      },
      "execution_count": null,
      "outputs": [
        {
          "output_type": "stream",
          "name": "stdout",
          "text": [
            "tensor([[0.0070],\n",
            "        [0.0009]])\n"
          ]
        }
      ]
    }
  ],
  "metadata": {
    "colab": {
      "provenance": [],
      "authorship_tag": "ABX9TyOKexHM2GxltSKo9CSD2TG5",
      "include_colab_link": true
    },
    "kernelspec": {
      "display_name": "Python 3",
      "name": "python3"
    },
    "language_info": {
      "name": "python"
    }
  },
  "nbformat": 4,
  "nbformat_minor": 0
}