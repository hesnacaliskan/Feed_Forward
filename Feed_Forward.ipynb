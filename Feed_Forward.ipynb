{
  "cells": [
    {
      "cell_type": "markdown",
      "metadata": {
        "id": "view-in-github",
        "colab_type": "text"
      },
      "source": [
        "<a href=\"https://colab.research.google.com/github/hesnacaliskan/Feed_Forward/blob/main/Feed_Forward.ipynb\" target=\"_parent\"><img src=\"https://colab.research.google.com/assets/colab-badge.svg\" alt=\"Open In Colab\"/></a>"
      ]
    },
    {
      "cell_type": "code",
      "execution_count": 32,
      "metadata": {
        "id": "SXDQ7lhojvGM"
      },
      "outputs": [],
      "source": [
        "import torch"
      ]
    },
    {
      "cell_type": "code",
      "execution_count": 33,
      "metadata": {
        "colab": {
          "base_uri": "https://localhost:8080/"
        },
        "id": "5p2vU85gmyeI",
        "outputId": "6af64385-d334-41b4-cfe7-f86f0d702cc7"
      },
      "outputs": [
        {
          "output_type": "execute_result",
          "data": {
            "text/plain": [
              "tensor([[1., 2., 3.],\n",
              "        [4., 5., 6.]])"
            ]
          },
          "metadata": {},
          "execution_count": 33
        }
      ],
      "source": [
        "# convert input matrix to tensor\n",
        "x = torch.tensor([[1, 2, 3], [4, 5, 6]],dtype=torch.float)\n",
        "x"
      ]
    },
    {
      "cell_type": "code",
      "source": [
        "x = torch.flatten(x)"
      ],
      "metadata": {
        "id": "ouB_UEfTOunf"
      },
      "execution_count": 34,
      "outputs": []
    },
    {
      "cell_type": "code",
      "execution_count": 35,
      "metadata": {
        "colab": {
          "base_uri": "https://localhost:8080/"
        },
        "id": "ErwzIHTBpkNf",
        "outputId": "7f9af6aa-c19e-44f1-c774-b1807d6e66f6"
      },
      "outputs": [
        {
          "output_type": "execute_result",
          "data": {
            "text/plain": [
              "<torch._C.Generator at 0x7faad881b430>"
            ]
          },
          "metadata": {},
          "execution_count": 35
        }
      ],
      "source": [
        "# set seed for reproducibility\n",
        "torch.manual_seed(1)"
      ]
    },
    {
      "cell_type": "code",
      "execution_count": 36,
      "metadata": {
        "colab": {
          "base_uri": "https://localhost:8080/"
        },
        "id": "5EISpkLfpMem",
        "outputId": "29dd686d-7e5f-4fa9-985e-b5dcefce92fa"
      },
      "outputs": [
        {
          "output_type": "execute_result",
          "data": {
            "text/plain": [
              "(tensor([[-1.5256e+00, -7.5023e-01, -6.5398e-01, -1.6095e+00, -1.0017e-01,\n",
              "          -6.0919e-01, -9.7977e-01, -1.6091e+00, -7.1214e-01,  3.0372e-01,\n",
              "          -7.7731e-01, -2.5146e-01, -2.2227e-01,  1.6871e+00,  2.2843e-01,\n",
              "           4.6764e-01, -6.9697e-01, -1.1608e+00,  6.9954e-01,  1.9908e-01,\n",
              "           8.6569e-01,  2.4440e-01, -6.6291e-01,  8.0731e-01,  1.1017e+00,\n",
              "          -1.7594e-01, -2.2456e+00, -1.4465e+00,  6.1155e-02, -6.1774e-01,\n",
              "          -7.9807e-01, -1.3162e-01,  1.8793e+00, -7.2132e-02,  1.5777e-01,\n",
              "          -7.7345e-01,  1.9906e-01,  4.5703e-02,  1.5296e-01, -4.7568e-01,\n",
              "          -1.1102e-01,  2.9274e-01, -1.5785e-01, -2.8787e-02,  2.3571e+00,\n",
              "          -1.0373e+00,  1.5748e+00, -6.2985e-01, -9.2739e-01,  5.4514e-01],\n",
              "         [ 6.6280e-02, -4.3704e-01,  7.6260e-01,  4.4151e-01,  1.1651e+00,\n",
              "           2.0154e+00,  1.3741e-01,  9.3864e-01, -1.8600e-01, -6.4464e-01,\n",
              "           1.5392e+00, -8.6959e-01, -3.3312e+00, -7.4787e-01, -2.5502e-02,\n",
              "          -1.0233e+00, -5.9619e-01, -1.0055e+00, -2.1061e-01, -7.5475e-03,\n",
              "           1.6734e+00,  1.0343e-02, -7.0396e-01, -1.8527e-01, -9.9624e-01,\n",
              "          -8.3126e-01, -4.6102e-01, -5.6008e-01,  3.9558e-01, -9.8228e-01,\n",
              "          -5.0649e-01,  9.9775e-02, -6.5397e-01,  7.3169e-01, -1.4344e+00,\n",
              "          -5.0081e-01,  1.7163e-01, -1.5999e-01,  2.5463e-01, -5.0196e-01,\n",
              "          -1.0412e+00,  7.3227e-01, -1.0483e+00, -4.7088e-01,  2.9114e-01,\n",
              "           1.9907e+00,  6.6145e-01,  1.1899e+00,  8.1653e-01, -9.1352e-01],\n",
              "         [ 1.3851e+00, -8.1385e-01, -9.2758e-01,  1.1120e+00,  1.3352e+00,\n",
              "           6.0427e-01, -1.0344e-01, -1.5122e-01, -2.1021e+00, -6.2002e-01,\n",
              "          -1.4782e+00, -1.1334e+00,  8.7380e-01, -5.6026e-01,  1.2858e+00,\n",
              "           8.1682e-01,  2.0530e-01,  3.0511e-01,  5.3569e-01, -4.3119e-01,\n",
              "           2.5581e+00, -2.3336e-01, -1.3472e-02,  1.8606e+00, -1.9804e+00,\n",
              "           1.7986e+00,  1.0181e-01,  3.4001e-01,  7.1236e-01, -1.7765e+00,\n",
              "           3.5386e-01,  1.1996e+00, -3.0300e-01, -1.7618e+00,  6.3484e-01,\n",
              "          -8.0436e-01, -1.6111e+00, -1.8716e+00,  5.4308e-01,  6.6068e-01,\n",
              "           2.2952e+00,  6.7491e-01,  1.7133e+00, -1.7943e+00, -1.3633e+00,\n",
              "          -9.8322e-01,  1.5113e+00,  6.4187e-01,  4.7296e-01, -4.2859e-01],\n",
              "         [ 5.5137e-01, -1.5474e+00,  5.1811e-01,  1.0654e-01,  2.6924e-01,\n",
              "           1.3248e+00,  1.7460e+00,  1.8550e+00, -7.0637e-01,  2.5571e+00,\n",
              "           4.1753e-01, -2.1272e-01, -8.3996e-01, -4.2002e-01, -6.2404e-01,\n",
              "          -9.7730e-01,  8.7484e-01,  9.8728e-01,  3.0958e-01,  1.5207e+00,\n",
              "           1.2052e+00, -1.8156e+00, -4.0346e-01, -9.5915e-01, -5.2077e-03,\n",
              "          -7.8863e-02,  8.4365e-01,  1.1657e+00,  5.2693e-01,  1.6193e+00,\n",
              "          -9.6398e-01,  1.4152e-01, -1.6366e-01, -3.5822e-01,  1.7223e+00,\n",
              "          -3.0358e-01,  2.3887e-01,  1.3440e+00,  1.0323e-01,  1.1004e+00,\n",
              "          -3.4168e-01,  9.4734e-01, -5.6852e-01,  8.3760e-01,  1.7837e+00,\n",
              "          -1.9542e-01,  5.1492e-01, -1.8475e+00, -2.9167e+00, -5.6733e-01],\n",
              "         [-5.4128e-01,  8.9517e-01, -8.8251e-01,  5.3181e-01, -1.5458e+00,\n",
              "          -1.7330e-01,  7.2825e-01,  5.7061e-02,  9.0552e-01,  1.0463e+00,\n",
              "          -5.2060e-01,  1.3548e+00,  2.3519e-01,  1.9142e+00,  1.8364e+00,\n",
              "           1.3245e+00, -9.6901e-01,  1.2516e+00,  1.2103e+00, -5.2792e-01,\n",
              "           2.1857e-01, -5.7431e-01,  1.4571e+00,  1.7710e+00,  1.6499e+00,\n",
              "          -4.3200e-01, -2.7103e-01, -1.4392e+00,  1.2470e+00,  1.2739e+00,\n",
              "           3.9095e-01,  3.8721e-01, -7.9829e-02,  3.4172e-01,  9.4883e-01,\n",
              "          -1.3839e+00,  1.7241e+00, -2.3648e+00, -9.2949e-01,  2.9363e-01,\n",
              "           2.1513e-01,  9.3846e-01,  1.4657e+00, -5.5647e-01, -7.4484e-01,\n",
              "          -2.0216e-01, -2.2967e-01,  1.3313e-03,  3.7528e-01, -5.8107e-01],\n",
              "         [-5.7231e-01,  1.0097e+00, -1.0565e-01, -1.1797e+00, -9.0780e-02,\n",
              "           5.6311e-01, -1.2560e+00,  8.9556e-01,  1.6748e-01,  7.5142e-01,\n",
              "           2.4142e+00,  1.0206e+00, -4.4048e-01, -1.7342e+00, -1.2362e+00,\n",
              "           1.5786e+00, -1.1161e+00,  7.6777e-01, -5.8821e-01,  2.1189e+00,\n",
              "          -5.4219e-01, -2.4593e+00, -1.1108e+00, -1.1187e+00,  7.5800e-01,\n",
              "          -4.9566e-01, -1.9700e-01, -3.3396e-02,  7.1929e-01,  1.0644e+00,\n",
              "           8.3403e-01, -1.9162e+00, -3.4203e-01, -6.6049e-01, -8.6923e-01,\n",
              "           8.8686e-01, -1.2211e+00, -6.7527e-01,  1.0476e+00, -3.1758e-01,\n",
              "           1.3949e-01,  2.3403e+00, -5.9385e-01, -3.0606e-01,  6.7713e-01,\n",
              "           6.8086e-01,  1.9948e-01,  7.9927e-01, -2.6190e-01,  1.5133e-01]]),\n",
              " tensor([[-2.2775e-01, -8.6759e-01,  3.3981e-01, -1.1494e+00,  6.5222e-01,\n",
              "          -8.7262e-01,  3.5254e-02, -3.3653e-01, -8.5707e-01,  1.5852e+00,\n",
              "           1.7287e+00, -9.9338e-01,  7.7440e-01,  6.9199e-01, -1.0185e+00,\n",
              "          -8.0337e-01,  7.4827e-02,  3.5311e-01,  1.0170e+00,  9.3027e-01,\n",
              "          -6.0679e-01, -5.2522e-01, -5.6619e-01,  6.6040e-04,  2.2788e+00,\n",
              "           4.7073e-01,  6.0782e-01, -5.8338e-02,  3.6000e-01,  4.6668e-01,\n",
              "           1.2831e+00,  1.2678e+00,  2.9363e-01, -4.1395e-01, -7.7376e-02,\n",
              "          -6.0421e-01, -5.7315e-01,  9.5778e-01,  9.8202e-04, -1.3848e+00,\n",
              "          -9.9650e-01,  8.0735e-01, -2.4865e-01, -4.7209e-01,  1.3109e+00,\n",
              "          -3.1671e-01, -1.8610e-01, -5.7646e-01,  6.8665e-01,  4.2087e-01]]))"
            ]
          },
          "metadata": {},
          "execution_count": 36
        }
      ],
      "source": [
        "# define weight matrices for hidden and output layers\n",
        "hidden_weights = torch.randn(6,50,dtype=torch.float)\n",
        "hidden_bias = torch.randn(1,50,dtype=torch.float)\n",
        "hidden_weights, hidden_bias"
      ]
    },
    {
      "cell_type": "code",
      "execution_count": 37,
      "metadata": {
        "colab": {
          "base_uri": "https://localhost:8080/"
        },
        "id": "4-a5ooL1puhy",
        "outputId": "7cb70420-116a-4f82-faae-97e11d2c4b42"
      },
      "outputs": [
        {
          "output_type": "execute_result",
          "data": {
            "text/plain": [
              "(tensor([[-1.7949],\n",
              "         [ 0.7299],\n",
              "         [-0.5619],\n",
              "         [-0.1579],\n",
              "         [ 1.5043],\n",
              "         [-1.3950],\n",
              "         [ 0.8008],\n",
              "         [-0.6619],\n",
              "         [-1.0592],\n",
              "         [-0.6280],\n",
              "         [-0.2713],\n",
              "         [ 1.8469],\n",
              "         [-0.0312],\n",
              "         [-0.0939],\n",
              "         [-0.6191],\n",
              "         [-0.6363],\n",
              "         [ 0.1383],\n",
              "         [ 1.0735],\n",
              "         [ 0.4096],\n",
              "         [-1.5421],\n",
              "         [-1.0129],\n",
              "         [-0.0297],\n",
              "         [-0.2890],\n",
              "         [ 0.1522],\n",
              "         [ 2.4291],\n",
              "         [ 1.3981],\n",
              "         [-0.6281],\n",
              "         [ 1.1969],\n",
              "         [ 0.6110],\n",
              "         [-0.4548],\n",
              "         [-0.9604],\n",
              "         [ 0.2769],\n",
              "         [-1.2548],\n",
              "         [ 1.3883],\n",
              "         [ 0.9385],\n",
              "         [ 1.4253],\n",
              "         [ 1.5083],\n",
              "         [ 0.1054],\n",
              "         [-1.6050],\n",
              "         [-0.1064],\n",
              "         [ 0.2466],\n",
              "         [ 0.6125],\n",
              "         [ 0.7398],\n",
              "         [-0.1786],\n",
              "         [ 0.0785],\n",
              "         [-0.4398],\n",
              "         [-0.3608],\n",
              "         [-1.2617],\n",
              "         [ 1.9147],\n",
              "         [-1.8613]]),\n",
              " tensor([[0.9042]]))"
            ]
          },
          "metadata": {},
          "execution_count": 37
        }
      ],
      "source": [
        "# define bias vectors for hidden and output layers\n",
        "output_weights = torch.randn(50,1,dtype=torch.float)\n",
        "output_bias = torch.randn(1,1,dtype=torch.float)\n",
        "output_weights, output_bias"
      ]
    },
    {
      "cell_type": "code",
      "execution_count": 38,
      "metadata": {
        "id": "IlGoc2coqLxG"
      },
      "outputs": [],
      "source": [
        "def tanh(x):\n",
        "    return (torch.exp(x) - torch.exp(-x)) / (torch.exp(x) + torch.exp(-x))"
      ]
    },
    {
      "cell_type": "code",
      "execution_count": 39,
      "metadata": {
        "id": "F8WDvlHjqNKF"
      },
      "outputs": [],
      "source": [
        "def sigmoid(x):\n",
        "    return 1 / (1 + torch.exp(-x))"
      ]
    },
    {
      "cell_type": "code",
      "execution_count": 40,
      "metadata": {
        "id": "mzJ25n_-qR4i"
      },
      "outputs": [],
      "source": [
        "# forward propagation\n",
        "hidden_layer_output = tanh(torch.matmul(x, hidden_weights) + hidden_bias)\n",
        "output_layer_output = sigmoid(torch.matmul(hidden_layer_output, output_weights) + output_bias)\n"
      ]
    },
    {
      "cell_type": "code",
      "execution_count": 41,
      "metadata": {
        "colab": {
          "base_uri": "https://localhost:8080/"
        },
        "id": "jp_MuTho39VB",
        "outputId": "007e7e50-ee7c-446c-c710-e235cc8a838a"
      },
      "outputs": [
        {
          "output_type": "execute_result",
          "data": {
            "text/plain": [
              "tensor([[-0.8854, -0.5290, -0.9998, -0.9875, -0.2992,  1.0000,  0.9710,  1.0000,\n",
              "         -1.0000,  1.0000,  1.0000,  1.0000, -1.0000, -0.9973,  0.9795,  1.0000,\n",
              "         -1.0000,  1.0000,  1.0000,  1.0000,  1.0000, -1.0000, -0.9987,  0.9997,\n",
              "          1.0000, -0.8899, -0.8889, -0.9997,  1.0000,  1.0000,  0.9986, -0.9994,\n",
              "         -0.9963, -1.0000,  1.0000, -1.0000, -0.9893, -1.0000,  0.9997,  0.9958,\n",
              "          0.9996,  1.0000,  0.9995, -1.0000,  1.0000,  0.9619,  1.0000,  0.4711,\n",
              "         -1.0000, -1.0000]])"
            ]
          },
          "metadata": {},
          "execution_count": 41
        }
      ],
      "source": [
        "hidden_layer_output"
      ]
    },
    {
      "cell_type": "code",
      "execution_count": 42,
      "metadata": {
        "colab": {
          "base_uri": "https://localhost:8080/"
        },
        "id": "BWAD5Syv3aqa",
        "outputId": "1e379361-af39-4704-8a84-bde67a25a638"
      },
      "outputs": [
        {
          "output_type": "execute_result",
          "data": {
            "text/plain": [
              "tensor([[-0.8854, -0.5290, -0.9998, -0.9875, -0.2992,  1.0000,  0.9710,  1.0000,\n",
              "         -1.0000,  1.0000,  1.0000,  1.0000, -1.0000, -0.9973,  0.9795,  1.0000,\n",
              "         -1.0000,  1.0000,  1.0000,  1.0000,  1.0000, -1.0000, -0.9987,  0.9996,\n",
              "          1.0000, -0.8899, -0.8889, -0.9997,  1.0000,  1.0000,  0.9986, -0.9994,\n",
              "         -0.9963, -1.0000,  1.0000, -1.0000, -0.9893, -1.0000,  0.9997,  0.9958,\n",
              "          0.9996,  1.0000,  0.9995, -1.0000,  1.0000,  0.9619,  1.0000,  0.4711,\n",
              "         -1.0000, -1.0000]])"
            ]
          },
          "metadata": {},
          "execution_count": 42
        }
      ],
      "source": [
        "torch.tanh(torch.matmul(x, hidden_weights) + hidden_bias)"
      ]
    },
    {
      "cell_type": "code",
      "execution_count": 43,
      "metadata": {
        "colab": {
          "base_uri": "https://localhost:8080/"
        },
        "id": "IFEB7YAUrxiX",
        "outputId": "5d95d231-50e1-4e4e-ea07-3a3103366725"
      },
      "outputs": [
        {
          "output_type": "execute_result",
          "data": {
            "text/plain": [
              "tensor([[0.0575]])"
            ]
          },
          "metadata": {},
          "execution_count": 43
        }
      ],
      "source": [
        "output_layer_output"
      ]
    },
    {
      "cell_type": "code",
      "execution_count": 45,
      "metadata": {
        "colab": {
          "base_uri": "https://localhost:8080/"
        },
        "id": "FEEqzgORs3P0",
        "outputId": "39b00978-b91a-40d2-8978-53c5bab02b0b"
      },
      "outputs": [
        {
          "output_type": "execute_result",
          "data": {
            "text/plain": [
              "tensor([[0.0575]])"
            ]
          },
          "metadata": {},
          "execution_count": 45
        }
      ],
      "source": [
        "torch.sigmoid(torch.matmul(hidden_layer_output, output_weights) + output_bias)\n"
      ]
    },
    {
      "cell_type": "markdown",
      "source": [
        "We replace the SEED value with our student number."
      ],
      "metadata": {
        "id": "5hZUTz9_OesM"
      }
    },
    {
      "cell_type": "code",
      "source": [
        "torch.manual_seed(190401007)"
      ],
      "metadata": {
        "colab": {
          "base_uri": "https://localhost:8080/"
        },
        "id": "WnaqHnpHK_ai",
        "outputId": "e6098223-7cf9-4583-ec38-ead2e059f65c"
      },
      "execution_count": 46,
      "outputs": [
        {
          "output_type": "execute_result",
          "data": {
            "text/plain": [
              "<torch._C.Generator at 0x7faad881b430>"
            ]
          },
          "metadata": {},
          "execution_count": 46
        }
      ]
    },
    {
      "cell_type": "code",
      "source": [
        "hidden_weights = torch.randn(6, 50, dtype=torch.float)\n",
        "hidden_bias = torch.randn(1,50, dtype=torch.float)\n",
        "output_weights = torch.randn(50, 1, dtype=torch.float)\n",
        "output_bias = torch.randn(1,1, dtype=torch.float)\n",
        "\n",
        "\n",
        "def tanh(x):\n",
        "    return (torch.exp(x) - torch.exp(-x)) / (torch.exp(x) + torch.exp(-x))\n",
        "\n",
        "def sigmoid(x):\n",
        "    return 1 / (1 + torch.exp(-x))\n",
        "\n",
        "\n",
        "hidden_layer_output = tanh(torch.matmul(x, hidden_weights) + hidden_bias)\n",
        "output_layer_output = sigmoid(torch.matmul(hidden_layer_output, output_weights) + output_bias)\n",
        "\n",
        "print(output_layer_output)\n"
      ],
      "metadata": {
        "colab": {
          "base_uri": "https://localhost:8080/"
        },
        "id": "rlI_QIquLIJ8",
        "outputId": "dd364073-e8b4-442d-8c84-ee532986d19e"
      },
      "execution_count": 47,
      "outputs": [
        {
          "output_type": "stream",
          "name": "stdout",
          "text": [
            "tensor([[0.9488]])\n"
          ]
        }
      ]
    }
  ],
  "metadata": {
    "colab": {
      "provenance": [],
      "authorship_tag": "ABX9TyO0AKRKbHfdH4TiA+k7T+6z",
      "include_colab_link": true
    },
    "kernelspec": {
      "display_name": "Python 3",
      "name": "python3"
    },
    "language_info": {
      "name": "python"
    }
  },
  "nbformat": 4,
  "nbformat_minor": 0
}